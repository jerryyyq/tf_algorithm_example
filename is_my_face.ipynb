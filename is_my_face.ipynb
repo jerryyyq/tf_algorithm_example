{
 "cells": [
  {
   "cell_type": "code",
   "execution_count": null,
   "metadata": {
    "collapsed": true
   },
   "outputs": [],
   "source": [
    "import tensorflow as tf\n",
    "import cv2\n",
    "\n",
    "output = cnnLayer()  \n",
    "predict = tf.argmax(output, 1)  \n",
    "\n",
    "saver = tf.train.Saver()  \n",
    "sess = tf.Session()  \n",
    "saver.restore(sess, tf.train.latest_checkpoint('.'))  \n",
    "\n",
    "def is_my_face(image):  \n",
    "    res = sess.run(predict, feed_dict={x: [image/255.0], keep_prob_5:1.0, keep_prob_75: 1.0})  \n",
    "    if res[0] == 1:  \n",
    "        return True  \n",
    "    else:  \n",
    "        return False  \n",
    "\n",
    "#使用dlib自带的frontal_face_detector作为我们的特征提取器\n",
    "detector = dlib.get_frontal_face_detector()\n",
    "\n",
    "cam = cv2.VideoCapture(0)  \n",
    "\n",
    "while True:  \n",
    "    _, img = cam.read()  \n",
    "    gray_image = cv2.cvtColor(img, cv2.COLOR_BGR2GRAY)\n",
    "    dets = detector(gray_image, 1)\n",
    "    if not len(dets):\n",
    "        #print('Can`t get face.')\n",
    "        cv2.imshow('img', img)\n",
    "        key = cv2.waitKey(30) & 0xff  \n",
    "        if key == 27:\n",
    "            sys.exit(0)\n",
    "\n",
    "    for i, d in enumerate(dets):\n",
    "        x1 = d.top() if d.top() > 0 else 0\n",
    "        y1 = d.bottom() if d.bottom() > 0 else 0\n",
    "        x2 = d.left() if d.left() > 0 else 0\n",
    "        y2 = d.right() if d.right() > 0 else 0\n",
    "        face = img[x1:y1,x2:y2]\n",
    "        # 调整图片的尺寸\n",
    "        face = cv2.resize(face, (size,size))\n",
    "        print('Is this my face? %s' % is_my_face(face))\n",
    "\n",
    "        cv2.rectangle(img, (x2,x1),(y2,y1), (255,0,0),3)\n",
    "        cv2.imshow('image',img)\n",
    "        key = cv2.waitKey(30) & 0xff\n",
    "        if key == 27:\n",
    "            sys.exit(0)\n",
    "\n",
    "sess.close() "
   ]
  }
 ],
 "metadata": {
  "anaconda-cloud": {},
  "kernelspec": {
   "display_name": "Python_ve_tf",
   "language": "python",
   "name": "ve_tensorflow"
  },
  "language_info": {
   "codemirror_mode": {
    "name": "ipython",
    "version": 3
   },
   "file_extension": ".py",
   "mimetype": "text/x-python",
   "name": "python",
   "nbconvert_exporter": "python",
   "pygments_lexer": "ipython3",
   "version": "3.5.3"
  }
 },
 "nbformat": 4,
 "nbformat_minor": 1
}
