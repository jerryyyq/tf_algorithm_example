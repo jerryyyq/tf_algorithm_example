{
 "cells": [
  {
   "cell_type": "code",
   "execution_count": 3,
   "metadata": {},
   "outputs": [],
   "source": [
    "import tensorflow as tf\n",
    "import numpy as np\n",
    "\n",
    "graph = tf.Graph()\n",
    "\n",
    "with graph.as_default():\n",
    "    with tf.name_scope(\"variables\"):\n",
    "        global_step = tf.Variable(0, dtype = tf.int32, trainable = False, name = \"global_step\")\n",
    "        total_output = tf.Variable(0.0, dtype = tf.float32, trainable = False, name = \"total_output\")\n",
    "        \n",
    "    with tf.name_scope(\"transformation\"):\n",
    "        # independent input layer\n",
    "        with tf.name_scope(\"input\"):\n",
    "            a = tf.placeholder(tf.float32, shape = [None], name = \"input_placeholder_a\")\n",
    "        \n",
    "        # independent middle layer\n",
    "        with tf.name_scope(\"intermediate_layer\"):\n",
    "            b = tf.reduce_prod(a, name = \"product_b\")\n",
    "            c = tf.reduce_sum(a, name = \"sum_c\")\n",
    "            \n",
    "        # independent output layer\n",
    "        with tf.name_scope(\"output\"):\n",
    "            output = tf.add(b, c, name = \"output\")\n",
    "            \n",
    "        \n",
    "    with tf.name_scope(\"update\"):\n",
    "        update_total = total_output.assign_add(output)\n",
    "        increment_step = global_step.assign_add(1)\n",
    "            \n",
    "    with tf.name_scope(\"summaries\"):\n",
    "        avg = tf.div(update_total, tf.cast(increment_step, tf.float32), name = \"average\")\n",
    "            \n",
    "        tf.scalar_summary(b'Output', output, name = \"output_summary\")\n",
    "        tf.scalar_summary(b'Sum of outputs over time', update_total, name = \"total_summary\")\n",
    "        tf.scalar_summary(b'Average of outputs over time', avg, name = \"average_summary\")\n",
    "            \n",
    "    with tf.name_scope(\"global_ops\"):\n",
    "        init = tf.initialize_all_variables()\n",
    "        merged_summaries  = tf.merge_all_summaries()\n",
    "            \n",
    "    sess = tf.Session(graph = graph)\n",
    "    writer = tf.train.SummaryWriter('./my_graph2', graph = graph)\n",
    "    sess.run(init)\n",
    "\n",
    "            \n",
    "def run_graph(input_tensor):\n",
    "    feed_dict = {a: input_tensor}\n",
    "    _, step, summary = sess.run([output, increment_step, merged_summaries], feed_dict = feed_dict)\n",
    "    writer.add_summary(summary, global_step = step)\n",
    "    \n",
    "\n",
    "run_graph([2, 8])"
   ]
  },
  {
   "cell_type": "code",
   "execution_count": 12,
   "metadata": {},
   "outputs": [],
   "source": [
    "run_graph([3, 1, 3, 3])\n",
    "run_graph([8])\n",
    "run_graph([1, 2, 3])\n",
    "run_graph([11, 4])\n",
    "run_graph([4, 1])\n",
    "run_graph([7, 3, 1])\n",
    "run_graph([6, 3])\n",
    "run_graph([0, 2])\n",
    "run_graph([4, 5, 6])\n",
    "writer.flush()\n",
    "writer.close()"
   ]
  },
  {
   "cell_type": "code",
   "execution_count": 11,
   "metadata": {},
   "outputs": [
    {
     "data": {
      "text/plain": [
       "[1, 26.0]"
      ]
     },
     "execution_count": 11,
     "metadata": {},
     "output_type": "execute_result"
    }
   ],
   "source": [
    "sess.run([global_step, total_output])"
   ]
  },
  {
   "cell_type": "code",
   "execution_count": null,
   "metadata": {
    "collapsed": true
   },
   "outputs": [],
   "source": []
  }
 ],
 "metadata": {
  "kernelspec": {
   "display_name": "Python 3",
   "language": "python",
   "name": "python3"
  },
  "language_info": {
   "codemirror_mode": {
    "name": "ipython",
    "version": 3
   },
   "file_extension": ".py",
   "mimetype": "text/x-python",
   "name": "python",
   "nbconvert_exporter": "python",
   "pygments_lexer": "ipython3",
   "version": "3.5.2"
  }
 },
 "nbformat": 4,
 "nbformat_minor": 2
}
