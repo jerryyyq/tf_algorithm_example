{
 "cells": [
  {
   "cell_type": "code",
   "execution_count": 5,
   "metadata": {},
   "outputs": [
    {
     "name": "stdout",
     "output_type": "stream",
     "text": [
      "b' sepal_width'\n",
      "b'3.5'\n",
      "b'3.0'\n",
      "b'3.2'\n"
     ]
    }
   ],
   "source": [
    "import tensorflow as tf\n",
    "import os\n",
    "\n",
    "\n",
    "dirname = os.path.join(os.getcwd(), \"iris.csv\")  # iris.csv\n",
    "reader=tf.TextLineReader()\n",
    "filename_queue=tf.train.string_input_producer([dirname])\n",
    "key,value=reader.read(filename_queue)\n",
    "record_defaults=[[''],[''],[''],[''],['']]\n",
    "d1, d2, d3, d4, d5 = tf.decode_csv(value, record_defaults, ',')\n",
    "\n",
    "init=tf.initialize_all_variables()\n",
    "\n",
    "with tf.Session() as sess:\n",
    "    sess.run(init)\n",
    "    coord = tf.train.Coordinator()\n",
    "    threads = tf.train.start_queue_runners(sess=sess,coord=coord)\n",
    "    \n",
    "    for i in range(4):\n",
    "        print(sess.run(d2))\n",
    "    coord.request_stop()\n",
    "    coord.join(threads)"
   ]
  },
  {
   "cell_type": "code",
   "execution_count": null,
   "metadata": {
    "collapsed": true
   },
   "outputs": [],
   "source": []
  }
 ],
 "metadata": {
  "kernelspec": {
   "display_name": "Python 3",
   "language": "python",
   "name": "python3"
  },
  "language_info": {
   "codemirror_mode": {
    "name": "ipython",
    "version": 3
   },
   "file_extension": ".py",
   "mimetype": "text/x-python",
   "name": "python",
   "nbconvert_exporter": "python",
   "pygments_lexer": "ipython3",
   "version": "3.5.2"
  }
 },
 "nbformat": 4,
 "nbformat_minor": 2
}
